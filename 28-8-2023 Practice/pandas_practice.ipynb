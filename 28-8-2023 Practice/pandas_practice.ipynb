{
 "cells": [
  {
   "cell_type": "code",
   "execution_count": 110,
   "id": "29f3295c-f9fa-483b-b95d-218d21ded9d7",
   "metadata": {},
   "outputs": [
    {
     "name": "stderr",
     "output_type": "stream",
     "text": [
      "C:\\Users\\duyph\\AppData\\Local\\Temp\\ipykernel_19476\\3038280894.py:5: MatplotlibDeprecationWarning: The seaborn styles shipped by Matplotlib are deprecated since 3.6, as they no longer correspond to the styles shipped by seaborn. However, they will remain available as 'seaborn-v0_8-<style>'. Alternatively, directly use the seaborn API instead.\n",
      "  plt.style.use(\"seaborn-whitegrid\")\n"
     ]
    }
   ],
   "source": [
    "import numpy as np\n",
    "import pandas as pd\n",
    "import seaborn as sns\n",
    "import matplotlib.pyplot as plt\n",
    "plt.style.use(\"seaborn-whitegrid\")\n",
    "import re"
   ]
  },
  {
   "cell_type": "markdown",
   "id": "3e6473f1-e679-4815-a1f6-b9ebd12f7b08",
   "metadata": {},
   "source": [
    "### 1. Load data\n",
    "- Load file `superstore_dataset_dashboarddesign_clean.csv` vào biến `df`"
   ]
  },
  {
   "cell_type": "code",
   "execution_count": 6,
   "id": "c6b83ea2-9cd0-4b41-8025-29b3f08941a1",
   "metadata": {},
   "outputs": [],
   "source": [
    "# Get data path & data name\n",
    "data_path = 'C:\\\\Users\\\\duyph\\\\Documents\\\\DAP2308R1\\\\data\\\\'\n",
    "data_name = 'superstore_dataset_dashboarddesign_clean.csv'\n"
   ]
  },
  {
   "cell_type": "code",
   "execution_count": 5,
   "id": "089afc22-957c-4b79-8b06-fc5ace227057",
   "metadata": {},
   "outputs": [],
   "source": [
    "# Load data to Pandas object\n",
    "df = pd.read_csv(data_path + data_name, encoding = 'unicode_escape')"
   ]
  },
  {
   "cell_type": "markdown",
   "id": "f5214e11-b93b-4d48-9d83-52b2c3a825ff",
   "metadata": {},
   "source": [
    "### 2. Inspect data"
   ]
  },
  {
   "cell_type": "markdown",
   "id": "6e8fb201-cf74-4945-b84e-0ec32ef824c3",
   "metadata": {},
   "source": [
    "- Show 3 dòng đầu"
   ]
  },
  {
   "cell_type": "code",
   "execution_count": 7,
   "id": "0d9e9185-8289-49f1-88ba-375a57248eb6",
   "metadata": {},
   "outputs": [
    {
     "data": {
      "text/html": [
       "<div>\n",
       "<style scoped>\n",
       "    .dataframe tbody tr th:only-of-type {\n",
       "        vertical-align: middle;\n",
       "    }\n",
       "\n",
       "    .dataframe tbody tr th {\n",
       "        vertical-align: top;\n",
       "    }\n",
       "\n",
       "    .dataframe thead th {\n",
       "        text-align: right;\n",
       "    }\n",
       "</style>\n",
       "<table border=\"1\" class=\"dataframe\">\n",
       "  <thead>\n",
       "    <tr style=\"text-align: right;\">\n",
       "      <th></th>\n",
       "      <th>Order Date</th>\n",
       "      <th>Order ID</th>\n",
       "      <th>Product Name</th>\n",
       "      <th>Category</th>\n",
       "      <th>City</th>\n",
       "      <th>Country</th>\n",
       "      <th>Customer Name</th>\n",
       "      <th>Discount</th>\n",
       "      <th>Postal Code</th>\n",
       "      <th>Manufacturer</th>\n",
       "      <th>Profit</th>\n",
       "      <th>Profit Ratio</th>\n",
       "      <th>Quantity</th>\n",
       "      <th>Region</th>\n",
       "      <th>Sales</th>\n",
       "      <th>Segment</th>\n",
       "      <th>Ship Date</th>\n",
       "      <th>Ship Mode</th>\n",
       "      <th>State</th>\n",
       "      <th>Sub-Category</th>\n",
       "    </tr>\n",
       "  </thead>\n",
       "  <tbody>\n",
       "    <tr>\n",
       "      <th>0</th>\n",
       "      <td>11/8/2017</td>\n",
       "      <td>CA-2017-152156</td>\n",
       "      <td>Bush Somerset Collection Bookcase</td>\n",
       "      <td>Furniture</td>\n",
       "      <td>Henderson</td>\n",
       "      <td>United States</td>\n",
       "      <td>Claire Gute</td>\n",
       "      <td>0.0</td>\n",
       "      <td>42420.0</td>\n",
       "      <td>Bush</td>\n",
       "      <td>42.0</td>\n",
       "      <td>0.16</td>\n",
       "      <td>2.0</td>\n",
       "      <td>South</td>\n",
       "      <td>262.0</td>\n",
       "      <td>Consumer</td>\n",
       "      <td>11/11/2017</td>\n",
       "      <td>Second Class</td>\n",
       "      <td>Kentucky</td>\n",
       "      <td>Bookcases</td>\n",
       "    </tr>\n",
       "    <tr>\n",
       "      <th>1</th>\n",
       "      <td>11/8/2017</td>\n",
       "      <td>CA-2017-152156</td>\n",
       "      <td>Hon Deluxe Fabric Upholstered Stacking Chairs,...</td>\n",
       "      <td>Furniture</td>\n",
       "      <td>Henderson</td>\n",
       "      <td>United States</td>\n",
       "      <td>Claire Gute</td>\n",
       "      <td>0.0</td>\n",
       "      <td>42420.0</td>\n",
       "      <td>Hon</td>\n",
       "      <td>220.0</td>\n",
       "      <td>0.30</td>\n",
       "      <td>3.0</td>\n",
       "      <td>South</td>\n",
       "      <td>732.0</td>\n",
       "      <td>Consumer</td>\n",
       "      <td>11/11/2017</td>\n",
       "      <td>Second Class</td>\n",
       "      <td>Kentucky</td>\n",
       "      <td>Chairs</td>\n",
       "    </tr>\n",
       "    <tr>\n",
       "      <th>2</th>\n",
       "      <td>6/12/2017</td>\n",
       "      <td>CA-2017-138688</td>\n",
       "      <td>Self-Adhesive Address Labels for Typewriters b...</td>\n",
       "      <td>Office Supplies</td>\n",
       "      <td>Los Angeles</td>\n",
       "      <td>United States</td>\n",
       "      <td>Darrin Van Huff</td>\n",
       "      <td>0.0</td>\n",
       "      <td>90036.0</td>\n",
       "      <td>Universal</td>\n",
       "      <td>7.0</td>\n",
       "      <td>0.47</td>\n",
       "      <td>2.0</td>\n",
       "      <td>West</td>\n",
       "      <td>15.0</td>\n",
       "      <td>Corporate</td>\n",
       "      <td>6/16/2017</td>\n",
       "      <td>Second Class</td>\n",
       "      <td>California</td>\n",
       "      <td>Labels</td>\n",
       "    </tr>\n",
       "  </tbody>\n",
       "</table>\n",
       "</div>"
      ],
      "text/plain": [
       "  Order Date        Order ID  \\\n",
       "0  11/8/2017  CA-2017-152156   \n",
       "1  11/8/2017  CA-2017-152156   \n",
       "2  6/12/2017  CA-2017-138688   \n",
       "\n",
       "                                        Product Name         Category  \\\n",
       "0                  Bush Somerset Collection Bookcase        Furniture   \n",
       "1  Hon Deluxe Fabric Upholstered Stacking Chairs,...        Furniture   \n",
       "2  Self-Adhesive Address Labels for Typewriters b...  Office Supplies   \n",
       "\n",
       "          City        Country    Customer Name  Discount  Postal Code  \\\n",
       "0    Henderson  United States      Claire Gute       0.0      42420.0   \n",
       "1    Henderson  United States      Claire Gute       0.0      42420.0   \n",
       "2  Los Angeles  United States  Darrin Van Huff       0.0      90036.0   \n",
       "\n",
       "  Manufacturer  Profit  Profit Ratio  Quantity Region  Sales    Segment  \\\n",
       "0         Bush    42.0          0.16       2.0  South  262.0   Consumer   \n",
       "1          Hon   220.0          0.30       3.0  South  732.0   Consumer   \n",
       "2    Universal     7.0          0.47       2.0   West   15.0  Corporate   \n",
       "\n",
       "    Ship Date     Ship Mode       State Sub-Category  \n",
       "0  11/11/2017  Second Class    Kentucky    Bookcases  \n",
       "1  11/11/2017  Second Class    Kentucky       Chairs  \n",
       "2   6/16/2017  Second Class  California       Labels  "
      ]
     },
     "execution_count": 7,
     "metadata": {},
     "output_type": "execute_result"
    }
   ],
   "source": [
    "df.head(3)"
   ]
  },
  {
   "cell_type": "markdown",
   "id": "3d10feba-5b96-4d57-9dc5-a8aa4f3226c7",
   "metadata": {},
   "source": [
    "- Show 3 dòng cuối"
   ]
  },
  {
   "cell_type": "code",
   "execution_count": 8,
   "id": "94080f0a-9584-440a-9235-4e8367aaf9c1",
   "metadata": {},
   "outputs": [
    {
     "data": {
      "text/html": [
       "<div>\n",
       "<style scoped>\n",
       "    .dataframe tbody tr th:only-of-type {\n",
       "        vertical-align: middle;\n",
       "    }\n",
       "\n",
       "    .dataframe tbody tr th {\n",
       "        vertical-align: top;\n",
       "    }\n",
       "\n",
       "    .dataframe thead th {\n",
       "        text-align: right;\n",
       "    }\n",
       "</style>\n",
       "<table border=\"1\" class=\"dataframe\">\n",
       "  <thead>\n",
       "    <tr style=\"text-align: right;\">\n",
       "      <th></th>\n",
       "      <th>Order Date</th>\n",
       "      <th>Order ID</th>\n",
       "      <th>Product Name</th>\n",
       "      <th>Category</th>\n",
       "      <th>City</th>\n",
       "      <th>Country</th>\n",
       "      <th>Customer Name</th>\n",
       "      <th>Discount</th>\n",
       "      <th>Postal Code</th>\n",
       "      <th>Manufacturer</th>\n",
       "      <th>Profit</th>\n",
       "      <th>Profit Ratio</th>\n",
       "      <th>Quantity</th>\n",
       "      <th>Region</th>\n",
       "      <th>Sales</th>\n",
       "      <th>Segment</th>\n",
       "      <th>Ship Date</th>\n",
       "      <th>Ship Mode</th>\n",
       "      <th>State</th>\n",
       "      <th>Sub-Category</th>\n",
       "    </tr>\n",
       "  </thead>\n",
       "  <tbody>\n",
       "    <tr>\n",
       "      <th>9991</th>\n",
       "      <td>6/6/2017</td>\n",
       "      <td>CA-2017-160717</td>\n",
       "      <td>Samsung Galaxy Mega 6.3</td>\n",
       "      <td>Technology</td>\n",
       "      <td>Santa Barbara</td>\n",
       "      <td>United States</td>\n",
       "      <td>Maria Etezadi</td>\n",
       "      <td>0.2</td>\n",
       "      <td>93101.0</td>\n",
       "      <td>Samsung</td>\n",
       "      <td>227.0</td>\n",
       "      <td>0.08</td>\n",
       "      <td>9.0</td>\n",
       "      <td>West</td>\n",
       "      <td>3024.0</td>\n",
       "      <td>Home Office</td>\n",
       "      <td>6/11/2017</td>\n",
       "      <td>Standard Class</td>\n",
       "      <td>California</td>\n",
       "      <td>Phones</td>\n",
       "    </tr>\n",
       "    <tr>\n",
       "      <th>9992</th>\n",
       "      <td>10/16/2018</td>\n",
       "      <td>CA-2018-159282</td>\n",
       "      <td>Swingline SM12-08 MicroCut Jam Free Shredder</td>\n",
       "      <td>Technology</td>\n",
       "      <td>Yuma</td>\n",
       "      <td>United States</td>\n",
       "      <td>Gary Hansen</td>\n",
       "      <td>0.7</td>\n",
       "      <td>85364.0</td>\n",
       "      <td>Other</td>\n",
       "      <td>-480.0</td>\n",
       "      <td>-0.80</td>\n",
       "      <td>5.0</td>\n",
       "      <td>West</td>\n",
       "      <td>600.0</td>\n",
       "      <td>Home Office</td>\n",
       "      <td>10/21/2018</td>\n",
       "      <td>Standard Class</td>\n",
       "      <td>Arizona</td>\n",
       "      <td>Machines</td>\n",
       "    </tr>\n",
       "    <tr>\n",
       "      <th>9993</th>\n",
       "      <td>4/17/2018</td>\n",
       "      <td>CA-2018-134845</td>\n",
       "      <td>Lexmark MX611dhe Monochrome Laser Printer</td>\n",
       "      <td>Technology</td>\n",
       "      <td>Louisville</td>\n",
       "      <td>United States</td>\n",
       "      <td>Sharelle Roach</td>\n",
       "      <td>0.7</td>\n",
       "      <td>80027.0</td>\n",
       "      <td>Other</td>\n",
       "      <td>-3400.0</td>\n",
       "      <td>-1.33</td>\n",
       "      <td>5.0</td>\n",
       "      <td>West</td>\n",
       "      <td>2550.0</td>\n",
       "      <td>Home Office</td>\n",
       "      <td>4/23/2018</td>\n",
       "      <td>Standard Class</td>\n",
       "      <td>Colorado</td>\n",
       "      <td>Machines</td>\n",
       "    </tr>\n",
       "  </tbody>\n",
       "</table>\n",
       "</div>"
      ],
      "text/plain": [
       "      Order Date        Order ID  \\\n",
       "9991    6/6/2017  CA-2017-160717   \n",
       "9992  10/16/2018  CA-2018-159282   \n",
       "9993   4/17/2018  CA-2018-134845   \n",
       "\n",
       "                                      Product Name    Category           City  \\\n",
       "9991                       Samsung Galaxy Mega 6.3  Technology  Santa Barbara   \n",
       "9992  Swingline SM12-08 MicroCut Jam Free Shredder  Technology           Yuma   \n",
       "9993     Lexmark MX611dhe Monochrome Laser Printer  Technology     Louisville   \n",
       "\n",
       "            Country   Customer Name  Discount  Postal Code Manufacturer  \\\n",
       "9991  United States   Maria Etezadi       0.2      93101.0      Samsung   \n",
       "9992  United States     Gary Hansen       0.7      85364.0        Other   \n",
       "9993  United States  Sharelle Roach       0.7      80027.0        Other   \n",
       "\n",
       "      Profit  Profit Ratio  Quantity Region   Sales      Segment   Ship Date  \\\n",
       "9991   227.0          0.08       9.0   West  3024.0  Home Office   6/11/2017   \n",
       "9992  -480.0         -0.80       5.0   West   600.0  Home Office  10/21/2018   \n",
       "9993 -3400.0         -1.33       5.0   West  2550.0  Home Office   4/23/2018   \n",
       "\n",
       "           Ship Mode       State Sub-Category  \n",
       "9991  Standard Class  California       Phones  \n",
       "9992  Standard Class     Arizona     Machines  \n",
       "9993  Standard Class    Colorado     Machines  "
      ]
     },
     "execution_count": 8,
     "metadata": {},
     "output_type": "execute_result"
    }
   ],
   "source": [
    "df.tail(3)"
   ]
  },
  {
   "cell_type": "markdown",
   "id": "a1267d4c-bfc7-4073-9030-7718af335d28",
   "metadata": {},
   "source": [
    "- Data có bao nhiêu dòng, bao nhiêu cột?"
   ]
  },
  {
   "cell_type": "code",
   "execution_count": 253,
   "id": "5540a061-313c-4121-9d3a-56d3f2009e89",
   "metadata": {},
   "outputs": [
    {
     "name": "stdout",
     "output_type": "stream",
     "text": [
      "Data có 9994 hàng, 25 cột\n"
     ]
    }
   ],
   "source": [
    "print(\"Data có\" +\" \" + str(df.shape[0]) + \" \"+ \"hàng, \" + str(df.shape[1]) + \" \" + \"cột\")"
   ]
  },
  {
   "cell_type": "markdown",
   "id": "00810528-1416-468b-97e5-9a2644efc6ba",
   "metadata": {},
   "source": [
    "- In ra list tên các cột"
   ]
  },
  {
   "cell_type": "code",
   "execution_count": 13,
   "id": "92aea9f0-bed3-40c8-937e-402094d6afed",
   "metadata": {},
   "outputs": [
    {
     "data": {
      "text/plain": [
       "['Order Date',\n",
       " 'Order ID',\n",
       " 'Product Name',\n",
       " 'Category',\n",
       " 'City',\n",
       " 'Country',\n",
       " 'Customer Name',\n",
       " 'Discount',\n",
       " 'Postal Code',\n",
       " 'Manufacturer',\n",
       " 'Profit',\n",
       " 'Profit Ratio',\n",
       " 'Quantity',\n",
       " 'Region',\n",
       " 'Sales',\n",
       " 'Segment',\n",
       " 'Ship Date',\n",
       " 'Ship Mode',\n",
       " 'State',\n",
       " 'Sub-Category']"
      ]
     },
     "execution_count": 13,
     "metadata": {},
     "output_type": "execute_result"
    }
   ],
   "source": [
    "df.columns.tolist()"
   ]
  },
  {
   "cell_type": "markdown",
   "id": "a2206332-1271-4fc9-8b93-b7f92ad4f447",
   "metadata": {},
   "source": [
    "- Kiểu dữ liệu của từng cột"
   ]
  },
  {
   "cell_type": "code",
   "execution_count": 14,
   "id": "4ef7277e-f346-49d3-ab05-e8544e9e325c",
   "metadata": {},
   "outputs": [
    {
     "data": {
      "text/plain": [
       "Order Date        object\n",
       "Order ID          object\n",
       "Product Name      object\n",
       "Category          object\n",
       "City              object\n",
       "Country           object\n",
       "Customer Name     object\n",
       "Discount         float64\n",
       "Postal Code      float64\n",
       "Manufacturer      object\n",
       "Profit           float64\n",
       "Profit Ratio     float64\n",
       "Quantity         float64\n",
       "Region            object\n",
       "Sales            float64\n",
       "Segment           object\n",
       "Ship Date         object\n",
       "Ship Mode         object\n",
       "State             object\n",
       "Sub-Category      object\n",
       "dtype: object"
      ]
     },
     "execution_count": 14,
     "metadata": {},
     "output_type": "execute_result"
    }
   ],
   "source": [
    "df.dtypes"
   ]
  },
  {
   "cell_type": "markdown",
   "id": "792b7817-0b68-4b06-9de5-2c2a742017fa",
   "metadata": {},
   "source": [
    "### 3. Transform cột"
   ]
  },
  {
   "cell_type": "markdown",
   "id": "38d2df4f-75aa-42ff-aa6b-f921c303d0dd",
   "metadata": {},
   "source": [
    "####  3.1. Đổi tên cột"
   ]
  },
  {
   "cell_type": "markdown",
   "id": "5d6ec000-0699-403d-8f00-c2f41af73c0b",
   "metadata": {},
   "source": [
    "- Biến tên cột về dạng chữ thường và snake_case"
   ]
  },
  {
   "cell_type": "code",
   "execution_count": 255,
   "id": "0fd70f3d-5353-479f-b3ae-576f38997e25",
   "metadata": {},
   "outputs": [
    {
     "data": {
      "text/plain": [
       "['order_date',\n",
       " 'order_id',\n",
       " 'product_name',\n",
       " 'category',\n",
       " 'city',\n",
       " 'country',\n",
       " 'customer_name',\n",
       " 'discount',\n",
       " 'postal_code',\n",
       " 'manufacturer',\n",
       " 'profit',\n",
       " 'profit_ratio',\n",
       " 'quantity',\n",
       " 'region',\n",
       " 'sales',\n",
       " 'segment',\n",
       " 'ship_date',\n",
       " 'ship_mode',\n",
       " 'state',\n",
       " 'sub_category',\n",
       " 'order_year',\n",
       " 'order_day',\n",
       " 'order_month',\n",
       " 'ship_day',\n",
       " 'delay_day']"
      ]
     },
     "execution_count": 255,
     "metadata": {},
     "output_type": "execute_result"
    }
   ],
   "source": [
    "new_cols = []\n",
    "for i in df.columns.tolist():\n",
    "    new_cols += [re.sub('[ -]', '_', i).strip().lower()]\n",
    "new_cols"
   ]
  },
  {
   "cell_type": "code",
   "execution_count": 16,
   "id": "b1e92b67-6549-45a3-acb4-32e3ff92d51b",
   "metadata": {},
   "outputs": [],
   "source": [
    "new_cols = [re.sub('[ ]','_',_).lower() for _ in df.columns.tolist()] # List comprehension\n",
    "df.columns = new_cols"
   ]
  },
  {
   "cell_type": "markdown",
   "id": "bd521756-0e8b-4bb8-8590-94140740bbbc",
   "metadata": {},
   "source": [
    "- In ra 1 dòng đầu để kiểm tra"
   ]
  },
  {
   "cell_type": "code",
   "execution_count": 17,
   "id": "4b993bb7-5e94-499c-bb75-68c4510d9945",
   "metadata": {},
   "outputs": [
    {
     "data": {
      "text/html": [
       "<div>\n",
       "<style scoped>\n",
       "    .dataframe tbody tr th:only-of-type {\n",
       "        vertical-align: middle;\n",
       "    }\n",
       "\n",
       "    .dataframe tbody tr th {\n",
       "        vertical-align: top;\n",
       "    }\n",
       "\n",
       "    .dataframe thead th {\n",
       "        text-align: right;\n",
       "    }\n",
       "</style>\n",
       "<table border=\"1\" class=\"dataframe\">\n",
       "  <thead>\n",
       "    <tr style=\"text-align: right;\">\n",
       "      <th></th>\n",
       "      <th>order_date</th>\n",
       "      <th>order_id</th>\n",
       "      <th>product_name</th>\n",
       "      <th>category</th>\n",
       "      <th>city</th>\n",
       "      <th>country</th>\n",
       "      <th>customer_name</th>\n",
       "      <th>discount</th>\n",
       "      <th>postal_code</th>\n",
       "      <th>manufacturer</th>\n",
       "      <th>profit</th>\n",
       "      <th>profit_ratio</th>\n",
       "      <th>quantity</th>\n",
       "      <th>region</th>\n",
       "      <th>sales</th>\n",
       "      <th>segment</th>\n",
       "      <th>ship_date</th>\n",
       "      <th>ship_mode</th>\n",
       "      <th>state</th>\n",
       "      <th>sub-category</th>\n",
       "    </tr>\n",
       "  </thead>\n",
       "  <tbody>\n",
       "    <tr>\n",
       "      <th>0</th>\n",
       "      <td>11/8/2017</td>\n",
       "      <td>CA-2017-152156</td>\n",
       "      <td>Bush Somerset Collection Bookcase</td>\n",
       "      <td>Furniture</td>\n",
       "      <td>Henderson</td>\n",
       "      <td>United States</td>\n",
       "      <td>Claire Gute</td>\n",
       "      <td>0.0</td>\n",
       "      <td>42420.0</td>\n",
       "      <td>Bush</td>\n",
       "      <td>42.0</td>\n",
       "      <td>0.16</td>\n",
       "      <td>2.0</td>\n",
       "      <td>South</td>\n",
       "      <td>262.0</td>\n",
       "      <td>Consumer</td>\n",
       "      <td>11/11/2017</td>\n",
       "      <td>Second Class</td>\n",
       "      <td>Kentucky</td>\n",
       "      <td>Bookcases</td>\n",
       "    </tr>\n",
       "  </tbody>\n",
       "</table>\n",
       "</div>"
      ],
      "text/plain": [
       "  order_date        order_id                       product_name   category  \\\n",
       "0  11/8/2017  CA-2017-152156  Bush Somerset Collection Bookcase  Furniture   \n",
       "\n",
       "        city        country customer_name  discount  postal_code manufacturer  \\\n",
       "0  Henderson  United States   Claire Gute       0.0      42420.0         Bush   \n",
       "\n",
       "   profit  profit_ratio  quantity region  sales   segment   ship_date  \\\n",
       "0    42.0          0.16       2.0  South  262.0  Consumer  11/11/2017   \n",
       "\n",
       "      ship_mode     state sub-category  \n",
       "0  Second Class  Kentucky    Bookcases  "
      ]
     },
     "execution_count": 17,
     "metadata": {},
     "output_type": "execute_result"
    }
   ],
   "source": [
    "df.head(1)"
   ]
  },
  {
   "cell_type": "markdown",
   "id": "97100808-7c97-4e04-9fff-78bedeeb6cc2",
   "metadata": {},
   "source": [
    "#### Tại sao phải chuyển tên cột về dạng \"snake_case\"?"
   ]
  },
  {
   "cell_type": "markdown",
   "id": "7d9a2316-3334-42d0-b014-6b039a47cf39",
   "metadata": {},
   "source": [
    "1. Độ nhất quán và dễ đọc: \"snake_case\" giúp tên cột trở nên dễ đọc hơn và dễ hiểu hơn bởi vì các từ được phân tách bằng dấu gạch dưới (_) thay vì viết hoa chữ cái đầu. Điều này giúp các từ trong tên cột trở nên rõ ràng hơn và giảm khả năng nhầm lẫn.\n",
    "\n",
    "2. Tương thích với nhiều ngôn ngữ và công cụ: Chuẩn \"snake_case\" phù hợp với nhiều ngôn ngữ lập trình và công cụ xử lý dữ liệu. Khi bạn chia sẻ dữ liệu với người khác hoặc làm việc với nhiều công cụ khác nhau, việc sử dụng chuẩn này giúp tránh sự bất tiện trong việc chuyển đổi tên cột.\n",
    "\n",
    "3. Tích hợp với các hệ thống và cơ sở dữ liệu: Nhiều hệ thống và cơ sở dữ liệu yêu cầu tên cột trong dạng \"snake_case\". Khi bạn làm việc với các hệ thống này, việc sử dụng \"snake_case\" có thể giảm thiểu cần phải chuyển đổi tên cột khi nhập hoặc xuất dữ liệu. Trong SQL, việc lưu data với tên cột chứa khoảng trắng gây ra một số phiền hà không cần thiết (như phải thêm \"\" khi chọn tên cột trong câu lệnh SELECT)\n",
    "\n",
    "4. Dễ dàng khi làm việc với mã code và biến: Nếu bạn cần sử dụng dữ liệu trong mã code Python, \"snake_case\" thường phù hợp hơn vì việc gọi tên biến và tên cột sẽ dễ dàng hơn. Các tên biến trong Python thường được viết bằng chữ thường và phân tách bằng dấu gạch dưới."
   ]
  },
  {
   "cell_type": "markdown",
   "id": "4e5be979-9ff4-4c5b-8699-1e5ff8877410",
   "metadata": {
    "tags": []
   },
   "source": [
    "#### 3.2. Đổi về datetime"
   ]
  },
  {
   "cell_type": "markdown",
   "id": "d892a753-8556-4190-aec4-bf68b04102c5",
   "metadata": {},
   "source": [
    "- Chọn ra cột mà tên có chứa `date` và kiểm tra dtype của chúng"
   ]
  },
  {
   "cell_type": "code",
   "execution_count": 25,
   "id": "ff8980c2-bb06-49b8-b16b-c56f8dac08fa",
   "metadata": {},
   "outputs": [
    {
     "data": {
      "text/plain": [
       "order_date        object\n",
       "order_id          object\n",
       "product_name      object\n",
       "category          object\n",
       "city              object\n",
       "country           object\n",
       "customer_name     object\n",
       "discount         float64\n",
       "postal_code      float64\n",
       "manufacturer      object\n",
       "profit           float64\n",
       "profit_ratio     float64\n",
       "quantity         float64\n",
       "region            object\n",
       "sales            float64\n",
       "segment           object\n",
       "ship_date         object\n",
       "ship_mode         object\n",
       "state             object\n",
       "sub-category      object\n",
       "dtype: object"
      ]
     },
     "execution_count": 25,
     "metadata": {},
     "output_type": "execute_result"
    }
   ],
   "source": [
    "df.dtypes"
   ]
  },
  {
   "cell_type": "code",
   "execution_count": 35,
   "id": "d7f92685-cfa8-48ec-b0e9-bf5feccff7f4",
   "metadata": {},
   "outputs": [
    {
     "data": {
      "text/plain": [
       "0      2017-11-08\n",
       "1      2017-11-08\n",
       "2      2017-06-12\n",
       "3      2016-10-11\n",
       "4      2016-10-11\n",
       "          ...    \n",
       "9989   2015-12-24\n",
       "9990   2015-07-12\n",
       "9991   2017-06-06\n",
       "9992   2018-10-16\n",
       "9993   2018-04-17\n",
       "Name: order_date, Length: 9994, dtype: datetime64[ns]"
      ]
     },
     "metadata": {},
     "output_type": "display_data"
    },
    {
     "data": {
      "text/plain": [
       "0       11/11/2017\n",
       "1       11/11/2017\n",
       "2        6/16/2017\n",
       "3       10/18/2016\n",
       "4       10/18/2016\n",
       "           ...    \n",
       "9989    12/29/2015\n",
       "9990     7/16/2015\n",
       "9991     6/11/2017\n",
       "9992    10/21/2018\n",
       "9993     4/23/2018\n",
       "Name: ship_date, Length: 9994, dtype: object"
      ]
     },
     "metadata": {},
     "output_type": "display_data"
    }
   ],
   "source": [
    "display(df['order_date'])\n",
    "display(df['ship_date'])"
   ]
  },
  {
   "cell_type": "markdown",
   "id": "0d54880e-9c52-4dd2-b371-1dd2f43d3695",
   "metadata": {},
   "source": [
    "- Nếu chưa ở dạng datetime thì đổi thành datetime. Nếu đã ở dạng datetime thì vẫn cứ đổi lại để practice."
   ]
  },
  {
   "cell_type": "code",
   "execution_count": 36,
   "id": "3529f014-70d0-418c-994f-1d81cd70359e",
   "metadata": {},
   "outputs": [],
   "source": [
    "df['order_date'] = pd.to_datetime(df['order_date'])\n",
    "df['ship_date'] = pd.to_datetime(df['ship_date'])"
   ]
  },
  {
   "cell_type": "markdown",
   "id": "c8265356-4494-4a76-97ae-400fea810e1b",
   "metadata": {},
   "source": [
    "- Kiểm tra kết quả sau khi đổi"
   ]
  },
  {
   "cell_type": "code",
   "execution_count": 37,
   "id": "2b393ff1-5926-4d2e-998d-c43312ebeaff",
   "metadata": {},
   "outputs": [
    {
     "data": {
      "text/plain": [
       "0      2017-11-08\n",
       "1      2017-11-08\n",
       "2      2017-06-12\n",
       "3      2016-10-11\n",
       "4      2016-10-11\n",
       "          ...    \n",
       "9989   2015-12-24\n",
       "9990   2015-07-12\n",
       "9991   2017-06-06\n",
       "9992   2018-10-16\n",
       "9993   2018-04-17\n",
       "Name: order_date, Length: 9994, dtype: datetime64[ns]"
      ]
     },
     "metadata": {},
     "output_type": "display_data"
    },
    {
     "data": {
      "text/plain": [
       "0      2017-11-11\n",
       "1      2017-11-11\n",
       "2      2017-06-16\n",
       "3      2016-10-18\n",
       "4      2016-10-18\n",
       "          ...    \n",
       "9989   2015-12-29\n",
       "9990   2015-07-16\n",
       "9991   2017-06-11\n",
       "9992   2018-10-21\n",
       "9993   2018-04-23\n",
       "Name: ship_date, Length: 9994, dtype: datetime64[ns]"
      ]
     },
     "metadata": {},
     "output_type": "display_data"
    }
   ],
   "source": [
    "display(df['order_date'])\n",
    "display(df['ship_date'])"
   ]
  },
  {
   "cell_type": "markdown",
   "id": "abdac7de-0580-4e94-b819-b3eed3b0bac6",
   "metadata": {},
   "source": [
    "### 4. Trả lời các câu hỏi khác"
   ]
  },
  {
   "cell_type": "markdown",
   "id": "71072331-f783-40ba-be8e-a22063e2e5c3",
   "metadata": {},
   "source": [
    "#### 4.1. Distinct values"
   ]
  },
  {
   "cell_type": "markdown",
   "id": "6faba0e7-fa26-41aa-9563-2e39681b0235",
   "metadata": {},
   "source": [
    "- Có bao nhiêu nước và là những nước nào?"
   ]
  },
  {
   "cell_type": "code",
   "execution_count": 257,
   "id": "1ea966aa-56cb-4800-8513-dc721d317840",
   "metadata": {},
   "outputs": [
    {
     "name": "stdout",
     "output_type": "stream",
     "text": [
      "Có 1 nước\n"
     ]
    }
   ],
   "source": [
    "print( \"Có {} nước\".format(df['country'].nunique()))"
   ]
  },
  {
   "cell_type": "code",
   "execution_count": 259,
   "id": "c290973e-39d6-43fe-8091-37cb10f6b663",
   "metadata": {},
   "outputs": [
    {
     "name": "stdout",
     "output_type": "stream",
     "text": [
      "Là ['United States']\n"
     ]
    }
   ],
   "source": [
    "print( \"Là {}\".format(df['country'].unique()))"
   ]
  },
  {
   "cell_type": "markdown",
   "id": "b77e98f3-ca96-43d2-9d2e-62576fa35635",
   "metadata": {},
   "source": [
    "- Có bao nhiêu categories và là những categories nào?"
   ]
  },
  {
   "cell_type": "code",
   "execution_count": 262,
   "id": "d69a5ff0-db85-4e32-be7e-c633fab4963d",
   "metadata": {},
   "outputs": [
    {
     "name": "stdout",
     "output_type": "stream",
     "text": [
      "Có 3 categories\n"
     ]
    }
   ],
   "source": [
    "print( \"Có {} categories\".format(df['category'].nunique()))"
   ]
  },
  {
   "cell_type": "code",
   "execution_count": 269,
   "id": "5ef1953f-ecd8-4379-81a0-f4dfa582c184",
   "metadata": {},
   "outputs": [
    {
     "name": "stdout",
     "output_type": "stream",
     "text": [
      "Bao gồm: Furniture, Office Supplies, Technology\n"
     ]
    }
   ],
   "source": [
    "print('Bao gồm: '+', '.join(str(i) for i in df['category'].unique()))"
   ]
  },
  {
   "cell_type": "markdown",
   "id": "745b0df5-cffb-46c2-89bf-70697616968a",
   "metadata": {},
   "source": [
    "- Có bao nhiêu subcategories và là những subcategories nào?"
   ]
  },
  {
   "cell_type": "code",
   "execution_count": 48,
   "id": "63c33688-3d41-4c25-bbb0-28a1a2e1fcc9",
   "metadata": {},
   "outputs": [
    {
     "data": {
      "text/plain": [
       "17"
      ]
     },
     "execution_count": 48,
     "metadata": {},
     "output_type": "execute_result"
    }
   ],
   "source": [
    "df['sub-category'].nunique()"
   ]
  },
  {
   "cell_type": "code",
   "execution_count": 270,
   "id": "65d717ba-cec8-4289-b2a0-217c27f29ac1",
   "metadata": {},
   "outputs": [
    {
     "name": "stdout",
     "output_type": "stream",
     "text": [
      "Bao gồm: Bookcases, Chairs, Labels, Tables, Storage, Furnishings, Art, Phones, Binders, Appliances, Paper, Accessories, Envelopes, Fasteners, Supplies, Machines, Copiers\n"
     ]
    }
   ],
   "source": [
    "print('Bao gồm: '+', '.join(str(i) for i in df['sub-category'].unique()))"
   ]
  },
  {
   "cell_type": "markdown",
   "id": "0d1698cc-a645-4e72-80c6-a4cf27c9be02",
   "metadata": {},
   "source": [
    "- Tương tự có bao nhiêu `city`, `region`, `state`, `ship_mode`, `segment` (gợi ý dùng `for`)"
   ]
  },
  {
   "cell_type": "code",
   "execution_count": 277,
   "id": "58e067fa-a2f0-40dd-a6e9-7cbaee9e4804",
   "metadata": {
    "tags": []
   },
   "outputs": [
    {
     "name": "stdout",
     "output_type": "stream",
     "text": [
      "Bảng city có 531 city, bao gồm: Henderson, Los Angeles, Fort Lauderdale, Concord, Seattle, Fort Worth, Madison, West Jordan, San Francisco, Fremont, Philadelphia, Orem, Houston, Richardson, Naperville, Melbourne, Eagan, Westland, Dover, New Albany, New York City, Troy, Chicago, Gilbert, Springfield, Jackson, Memphis, Decatur, Durham, Columbia, Rochester, Minneapolis, Portland, Saint Paul, Aurora, Charlotte, Orland Park, Urbandale, Columbus, Bristol, Wilmington, Bloomington, Phoenix, Roseville, Independence, Pasadena, Newark, Franklin, Scottsdale, San Jose, Edmond, Carlsbad, San Antonio, Monroe, Fairfield, Grand Prairie, Redlands, Hamilton, Westfield, Akron, Denver, Dallas, Whittier, Saginaw, Medina, Dublin, Detroit, Tampa, Santa Clara, Lakeville, San Diego, Brentwood, Chapel Hill, Morristown, Cincinnati, Inglewood, Tamarac, Colorado Springs, Belleville, Taylor, Lakewood, Arlington, Arvada, Hackensack, Saint Petersburg, Long Beach, Hesperia, Murfreesboro, Layton, Austin, Lowell, Manchester, Harlingen, Tucson, Quincy, Pembroke Pines, Des Moines, Peoria, Las Vegas, Warwick, Miami, Huntington Beach, Richmond, Louisville, Lawrence, Canton, New Rochelle, Gastonia, Jacksonville, Auburn, Norman, Park Ridge, Amarillo, Lindenhurst, Huntsville, Fayetteville, Costa Mesa, Parker, Atlanta, Gladstone, Great Falls, Lakeland, Montgomery, Mesa, Green Bay, Anaheim, Marysville, Salem, Laredo, Grove City, Dearborn, Warner Robins, Vallejo, Mission Viejo, Rochester Hills, Plainfield, Sierra Vista, Vancouver, Cleveland, Tyler, Burlington, Waynesboro, Chester, Cary, Palm Coast, Mount Vernon, Hialeah, Oceanside, Evanston, Trenton, Cottage Grove, Bossier City, Lancaster, Asheville, Lake Elsinore, Omaha, Edmonds, Santa Ana, Milwaukee, Florence, Lorain, Linden, Salinas, New Brunswick, Garland, Norwich, Alexandria, Toledo, Farmington, Riverside, Torrance, Round Rock, Boca Raton, Virginia Beach, Oklahoma City, Kirkwood, La Porte, Lansing, El Paso, Mansfield, Des Plaines, Freeport, Perth Amboy, Watertown, Waterbury, Andover, Clifton, Clinton, Baltimore, Everett, Buffalo, Parma, Bethlehem, Lafayette, Mobile, Murray, Coral Springs, Knoxville, Bakersfield, Oakland, Draper, Lake Forest, Pocatello, Hillsboro, Greeley, Longmont, Encinitas, Mount Pleasant, Lawton, Greenwood, Saint Charles, Skokie, Lubbock, Middletown, Marion, Wheeling, Hampton, Boynton Beach, Apopka, Pomona, Glendale, Tulsa, San Angelo, League City, Carrollton, Frisco, Beaumont, Paterson, Cranston, Woonsocket, Vineland, Reading, Lake Charles, Sandy Springs, Harrisonburg, Tallahassee, Raleigh, Fresno, Olympia, North Las Vegas, Longview, Bellingham, Sacramento, Thornton, Fort Collins, Littleton, Dearborn Heights, Kenosha, Midland, Eau Claire, Wichita, Mishawaka, Texas City, Carol Stream, Allen, College Station, Plano, Highland Park, Pharr, Brownsville, Waco, Buffalo Grove, Rockford, Champaign, Yonkers, Rockville, Washington, Marlborough, Hempstead, Allentown, Passaic, Southaven, Conway, Jonesboro, Athens, Georgetown, Chesapeake, Hattiesburg, Macon, Little Rock, Greenville, Chattanooga, Nashville, Deltona, Hollywood, Miramar, Wilson, Hendersonville, Greensboro, Daytona Beach, Westminster, Bellevue, Spokane, Moreno Valley, Kent, Citrus Heights, Oxnard, Las Cruces, Provo, Morgan Hill, San Bernardino, Redmond, Modesto, Bullhead City, Broomfield, Rio Rancho, Gresham, Tempe, Apple Valley, Ontario, Pasco, Garden City, Indianapolis, Saint Louis, Frankfort, The Colony, Edinburg, Abilene, Providence, East Orange, Meriden, Suffolk, Charlottesville, Woodstock, Goldsboro, Delray Beach, Pensacola, Redondo Beach, Santa Maria, San Mateo, Commerce City, Temecula, Portage, Bolingbrook, Milford, Orange, Utica, Kenner, Rock Hill, Homestead, Plantation, Chula Vista, Pueblo, South Bend, Elkhart, Noblesville, Holland, Grand Island, Fargo, La Crosse, Aberdeen, Keller, Irving, Romeoville, Hagerstown, Nashua, Bowling Green, Cuyahoga Falls, Pine Bluff, North Charleston, Jupiter, Port Orange, Johnson City, North Miami, Port Saint Lucie, Clarksville, Chico, Albuquerque, Stockton, Rancho Cucamonga, Pleasant Grove, Escondido, Sparks, Vacaville, Avondale, Salt Lake City, Broken Arrow, Sterling Heights, Royal Oak, Wausau, Norfolk, Waterloo, Coon Rapids, Grand Rapids, Waukesha, New Castle, Sioux Falls, Mcallen, Coppell, Port Arthur, Cedar Hill, Oswego, Arlington Heights, Rome, Leominster, Malden, Roswell, Newport News, Smyrna, Owensboro, Marietta, Rogers, Gulfport, Orlando, Margate, Thomasville, West Palm Beach, Lebanon, Bartlett, Ormond Beach, Hickory, Logan, Visalia, San Luis Obispo, San Clemente, Camarillo, Murrieta, Davis, Santa Barbara, Lodi, Renton, Lewiston, Medford, Chandler, Missoula, Loveland, Englewood, Tigard, Clovis, Cedar Rapids, Pearland, Niagara Falls, Boise, Thousand Oaks, Glenview, Moorhead, Dubuque, Appleton, New Bedford, Jamestown, Hot Springs, Kissimmee, Santa Fe, Woodland, Redding, Rapid City, Odessa, Tinley Park, Mason, Sunnyvale, West Allis, San Marcos, Corpus Christi, Covington, Eugene, Oak Park, Lincoln Park, Saint Cloud, Bryan, Mesquite, Revere, Bangor, Laurel, Gaithersburg, York, East Point, Texarkana, Coral Gables, Pompano Beach, Twin Falls, Caldwell, El Cajon, Overland Park, Haltom City, Bedford, Conroe, Deer Park, Altoona, Hoover, Antioch, Helena, Billings, Iowa City, Ann Arbor, Atlantic City, Elyria, Summerville, Laguna Niguel, Yuma, Maple Grove, Woodbury, Baytown, Grapevine, Missouri City, Bridgeton, Beverly, Reno, Coachella, Yucaipa, Meridian, Redwood City, Palatine, La Quinta, Montebello, Lehi, Pico Rivera, Muskogee, Mentor, Manteca, Danville, Olathe, Jefferson City, Saint Peters, Superior, Normal, Elmhurst, Cambridge, Holyoke, Danbury, Tuscaloosa, Sanford, Burbank, San Gabriel, Cheyenne, Shelton, Bayonne, Sheboygan, Springdale, Bozeman, La Mesa, Manhattan\n",
      "Bảng region có 4 region, bao gồm: South, West, Central, East\n",
      "Bảng state có 49 state, bao gồm: Kentucky, California, Florida, North Carolina, Washington, Texas, Wisconsin, Utah, Nebraska, Pennsylvania, Illinois, Minnesota, Michigan, Delaware, Indiana, New York, Arizona, Virginia, Tennessee, Alabama, South Carolina, Oregon, Colorado, Iowa, Ohio, Missouri, Oklahoma, New Mexico, Louisiana, Connecticut, New Jersey, Massachusetts, Georgia, Nevada, Rhode Island, Mississippi, Arkansas, Montana, New Hampshire, Maryland, Idaho, West Virginia, Vermont, Kansas, District of Columbia, North Dakota, South Dakota, Maine, Wyoming\n",
      "Bảng ship_mode có 4 ship_mode, bao gồm: Second Class, Standard Class, First Class, Same Day\n",
      "Bảng segment có 3 segment, bao gồm: Consumer, Corporate, Home Office\n"
     ]
    }
   ],
   "source": [
    "check_list = ['city', 'region', 'state', 'ship_mode', 'segment']\n",
    "for i in check_list:\n",
    "    num = df[i].nunique()\n",
    "    name_list = df[i].unique().tolist()\n",
    "    name = ', '.join(str(_) for _ in name_list)\n",
    "    print(\"Bảng {} có {} {}, bao gồm: {}\".format(i, num, i, name))"
   ]
  },
  {
   "cell_type": "markdown",
   "id": "7f9d6e8a-74f1-420c-9e6c-7f2c412a670a",
   "metadata": {
    "tags": []
   },
   "source": [
    "#### 4.2. Làm việc với ngày tháng"
   ]
  },
  {
   "cell_type": "markdown",
   "id": "6a78aee5-3de8-49d0-8b83-5ef6f61470bd",
   "metadata": {},
   "source": [
    "- Data chứa các order trong khoảng thời gian nào?"
   ]
  },
  {
   "cell_type": "code",
   "execution_count": 281,
   "id": "b503fab3-5829-4837-881b-2689957af62a",
   "metadata": {},
   "outputs": [],
   "source": [
    "df['order_year'] = df['order_date'].dt.year\n",
    "df['order_day'] = df['order_date'].dt.day\n",
    "df['order_month'] = df['order_date'].dt.month"
   ]
  },
  {
   "cell_type": "code",
   "execution_count": 297,
   "id": "4d7c8ee1-c666-4e84-bf4d-b6b91c783275",
   "metadata": {
    "tags": []
   },
   "outputs": [],
   "source": [
    "start_time = df['order_date'].min().strftime('%d - %m - %Y')\n",
    "end_time = df['order_date'].max().strftime('%d - %m - %Y')"
   ]
  },
  {
   "cell_type": "code",
   "execution_count": 298,
   "id": "534e68de-6b60-48f6-9c78-683f76559260",
   "metadata": {},
   "outputs": [
    {
     "name": "stdout",
     "output_type": "stream",
     "text": [
      "Data chứ các order trong khoảng thời gian từ 03 - 01 - 2015 đến 30 - 12 - 2018\n"
     ]
    }
   ],
   "source": [
    "print(\"Data chứ các order trong khoảng thời gian từ {} đến {}\". format(start_time, end_time))"
   ]
  },
  {
   "cell_type": "markdown",
   "id": "c50a2009-66e9-4d3e-b971-04b1189cb3af",
   "metadata": {},
   "source": [
    "- Mỗi năm có bao nhiêu order (sắp xếp theo thứ tự các năm tăng dần)?"
   ]
  },
  {
   "cell_type": "code",
   "execution_count": 306,
   "id": "9c93ed8f-5e4b-4ba4-ab8a-210bdd44fabf",
   "metadata": {},
   "outputs": [
    {
     "data": {
      "text/plain": [
       "order_year\n",
       "2015    1993\n",
       "2016    2102\n",
       "2017    2587\n",
       "2018    3312\n",
       "Name: order_id, dtype: int64"
      ]
     },
     "execution_count": 306,
     "metadata": {},
     "output_type": "execute_result"
    }
   ],
   "source": [
    "df.groupby(['order_year'])['order_id'].count()"
   ]
  },
  {
   "cell_type": "code",
   "execution_count": 313,
   "id": "65c3ab45-eba2-4afc-912c-c009f44386ce",
   "metadata": {},
   "outputs": [
    {
     "name": "stdout",
     "output_type": "stream",
     "text": [
      "2015 969\n",
      "2016 1038\n",
      "2017 1315\n",
      "2018 1687\n"
     ]
    }
   ],
   "source": [
    "order_total_list = {}\n",
    "for _ in sorted(df['order_year'].unique().tolist()):\n",
    "    cond = df['order_year'] == _\n",
    "    order_total_list[_] = df.loc[cond,:]['order_id'].nunique()\n",
    "    print('{} {}'.format(_, df.loc[cond,:]['order_id'].nunique()))"
   ]
  },
  {
   "cell_type": "code",
   "execution_count": 314,
   "id": "bbfc9158-f564-4690-a78d-14a5e2a62064",
   "metadata": {},
   "outputs": [
    {
     "data": {
      "text/html": [
       "<div>\n",
       "<style scoped>\n",
       "    .dataframe tbody tr th:only-of-type {\n",
       "        vertical-align: middle;\n",
       "    }\n",
       "\n",
       "    .dataframe tbody tr th {\n",
       "        vertical-align: top;\n",
       "    }\n",
       "\n",
       "    .dataframe thead th {\n",
       "        text-align: right;\n",
       "    }\n",
       "</style>\n",
       "<table border=\"1\" class=\"dataframe\">\n",
       "  <thead>\n",
       "    <tr style=\"text-align: right;\">\n",
       "      <th></th>\n",
       "      <th>year</th>\n",
       "      <th>order_total</th>\n",
       "    </tr>\n",
       "  </thead>\n",
       "  <tbody>\n",
       "    <tr>\n",
       "      <th>0</th>\n",
       "      <td>2015</td>\n",
       "      <td>969</td>\n",
       "    </tr>\n",
       "    <tr>\n",
       "      <th>1</th>\n",
       "      <td>2016</td>\n",
       "      <td>1038</td>\n",
       "    </tr>\n",
       "    <tr>\n",
       "      <th>2</th>\n",
       "      <td>2017</td>\n",
       "      <td>1315</td>\n",
       "    </tr>\n",
       "    <tr>\n",
       "      <th>3</th>\n",
       "      <td>2018</td>\n",
       "      <td>1687</td>\n",
       "    </tr>\n",
       "  </tbody>\n",
       "</table>\n",
       "</div>"
      ],
      "text/plain": [
       "   year  order_total\n",
       "0  2015          969\n",
       "1  2016         1038\n",
       "2  2017         1315\n",
       "3  2018         1687"
      ]
     },
     "execution_count": 314,
     "metadata": {},
     "output_type": "execute_result"
    }
   ],
   "source": [
    "df2 = pd.DataFrame(list(order_total_list.items()),columns=['year', 'order_total'])\n",
    "df2"
   ]
  },
  {
   "cell_type": "markdown",
   "id": "ca2fb967-c683-4d98-9d4e-01046eec9b3a",
   "metadata": {},
   "source": [
    "- Vẽ đồ thị cho thống kê trên"
   ]
  },
  {
   "cell_type": "code",
   "execution_count": 315,
   "id": "a7afb546-f31c-404f-8e68-ae64f701d992",
   "metadata": {},
   "outputs": [
    {
     "data": {
      "image/png": "[encoded data removed]",
      "text/plain": [
       "<Figure size 1200x500 with 1 Axes>"
      ]
     },
     "metadata": {},
     "output_type": "display_data"
    }
   ],
   "source": [
    "fig, ax = plt.subplots(figsize=(12, 5))\n",
    "\n",
    "sns.lineplot(\n",
    "    x=\"year\", \n",
    "    y=\"order_total\",\n",
    "    data = df2,\n",
    "    ax=ax\n",
    ")\n",
    "\n",
    "ax.set_title(\"Order total by Year\")\n",
    "ax.set_xlabel(None)\n",
    "ax.set_ylabel('Order total')\n",
    "\n",
    "plt.show()"
   ]
  },
  {
   "cell_type": "markdown",
   "id": "0eb17f4d-d2ac-40ca-8045-f17107254c6c",
   "metadata": {},
   "source": [
    "- Mỗi tháng có bao nhiêu order?"
   ]
  },
  {
   "cell_type": "code",
   "execution_count": 142,
   "id": "d7c43322-264f-4e02-8810-7f9ea5c2174e",
   "metadata": {},
   "outputs": [],
   "source": [
    "\n",
    "\n",
    "   "
   ]
  },
  {
   "cell_type": "code",
   "execution_count": 322,
   "id": "64bce690-10c7-4b30-9828-ed3235cfe219",
   "metadata": {},
   "outputs": [
    {
     "data": {
      "text/html": [
       "<div>\n",
       "<style scoped>\n",
       "    .dataframe tbody tr th:only-of-type {\n",
       "        vertical-align: middle;\n",
       "    }\n",
       "\n",
       "    .dataframe tbody tr th {\n",
       "        vertical-align: top;\n",
       "    }\n",
       "\n",
       "    .dataframe thead th {\n",
       "        text-align: right;\n",
       "    }\n",
       "</style>\n",
       "<table border=\"1\" class=\"dataframe\">\n",
       "  <thead>\n",
       "    <tr style=\"text-align: right;\">\n",
       "      <th>order_month</th>\n",
       "      <th>1</th>\n",
       "      <th>2</th>\n",
       "      <th>3</th>\n",
       "      <th>4</th>\n",
       "      <th>5</th>\n",
       "      <th>6</th>\n",
       "      <th>7</th>\n",
       "      <th>8</th>\n",
       "      <th>9</th>\n",
       "      <th>10</th>\n",
       "      <th>11</th>\n",
       "      <th>12</th>\n",
       "    </tr>\n",
       "    <tr>\n",
       "      <th>order_year</th>\n",
       "      <th></th>\n",
       "      <th></th>\n",
       "      <th></th>\n",
       "      <th></th>\n",
       "      <th></th>\n",
       "      <th></th>\n",
       "      <th></th>\n",
       "      <th></th>\n",
       "      <th></th>\n",
       "      <th></th>\n",
       "      <th></th>\n",
       "      <th></th>\n",
       "    </tr>\n",
       "  </thead>\n",
       "  <tbody>\n",
       "    <tr>\n",
       "      <th>2015</th>\n",
       "      <td>32</td>\n",
       "      <td>28</td>\n",
       "      <td>71</td>\n",
       "      <td>66</td>\n",
       "      <td>69</td>\n",
       "      <td>66</td>\n",
       "      <td>65</td>\n",
       "      <td>72</td>\n",
       "      <td>130</td>\n",
       "      <td>78</td>\n",
       "      <td>151</td>\n",
       "      <td>141</td>\n",
       "    </tr>\n",
       "    <tr>\n",
       "      <th>2016</th>\n",
       "      <td>29</td>\n",
       "      <td>36</td>\n",
       "      <td>79</td>\n",
       "      <td>72</td>\n",
       "      <td>74</td>\n",
       "      <td>68</td>\n",
       "      <td>66</td>\n",
       "      <td>68</td>\n",
       "      <td>140</td>\n",
       "      <td>87</td>\n",
       "      <td>158</td>\n",
       "      <td>161</td>\n",
       "    </tr>\n",
       "    <tr>\n",
       "      <th>2017</th>\n",
       "      <td>48</td>\n",
       "      <td>45</td>\n",
       "      <td>86</td>\n",
       "      <td>89</td>\n",
       "      <td>108</td>\n",
       "      <td>97</td>\n",
       "      <td>96</td>\n",
       "      <td>90</td>\n",
       "      <td>192</td>\n",
       "      <td>105</td>\n",
       "      <td>183</td>\n",
       "      <td>176</td>\n",
       "    </tr>\n",
       "    <tr>\n",
       "      <th>2018</th>\n",
       "      <td>69</td>\n",
       "      <td>53</td>\n",
       "      <td>118</td>\n",
       "      <td>116</td>\n",
       "      <td>118</td>\n",
       "      <td>133</td>\n",
       "      <td>111</td>\n",
       "      <td>111</td>\n",
       "      <td>226</td>\n",
       "      <td>147</td>\n",
       "      <td>261</td>\n",
       "      <td>224</td>\n",
       "    </tr>\n",
       "  </tbody>\n",
       "</table>\n",
       "</div>"
      ],
      "text/plain": [
       "order_month  1   2    3    4    5    6    7    8    9    10   11   12\n",
       "order_year                                                           \n",
       "2015         32  28   71   66   69   66   65   72  130   78  151  141\n",
       "2016         29  36   79   72   74   68   66   68  140   87  158  161\n",
       "2017         48  45   86   89  108   97   96   90  192  105  183  176\n",
       "2018         69  53  118  116  118  133  111  111  226  147  261  224"
      ]
     },
     "execution_count": 322,
     "metadata": {},
     "output_type": "execute_result"
    }
   ],
   "source": [
    "order_total_list_by_month = {}\n",
    "order_total_list_by_month[i] = order_total\n",
    "year_month_order = df.groupby(['order_year', 'order_month'])['order_id'].nunique().reset_index()\n",
    "year_month_order.pivot(index = \"order_year\", columns = \"order_month\", values = \"order_id\")"
   ]
  },
  {
   "cell_type": "code",
   "execution_count": null,
   "id": "673c3afa-036b-4363-8be0-c96f7380fad6",
   "metadata": {},
   "outputs": [],
   "source": []
  },
  {
   "cell_type": "code",
   "execution_count": 152,
   "id": "d2dc3a00-3420-41bc-a3cd-be2885b7db7b",
   "metadata": {},
   "outputs": [
    {
     "data": {
      "image/png": "[encoded data removed]",
      "text/plain": [
       "<Figure size 1700x400 with 1 Axes>"
      ]
     },
     "metadata": {},
     "output_type": "display_data"
    }
   ],
   "source": [
    "fig, ax = plt.subplots(figsize=(17, 4))\n",
    "\n",
    "sns.lineplot(\n",
    "    x=\"month\", \n",
    "    y=\"order_total\",\n",
    "    data = df3,\n",
    "    ax=ax\n",
    ")\n",
    "\n",
    "ax.set_title(\"Order total by Month\")\n",
    "ax.set_xlabel(None)\n",
    "ax.set_ylabel('Order total')\n",
    "\n",
    "plt.show()"
   ]
  },
  {
   "cell_type": "markdown",
   "id": "6eed684b-0e90-49d4-998c-7047964623e7",
   "metadata": {},
   "source": [
    "### 4.3. Doanh thu"
   ]
  },
  {
   "cell_type": "markdown",
   "id": "863854a2-c5b7-41dc-a9da-90071f709fb1",
   "metadata": {},
   "source": [
    "- Lấy ra các đơn hàng của năm 2017"
   ]
  },
  {
   "cell_type": "code",
   "execution_count": 156,
   "id": "e3f73695-3d6a-4c6a-b490-52abe5426f46",
   "metadata": {},
   "outputs": [],
   "source": [
    "df4 = (df.loc[(df[\"order_year\"]) == 2017, :])"
   ]
  },
  {
   "cell_type": "markdown",
   "id": "844fb3b0-3548-4242-be00-69532b0a8bdb",
   "metadata": {},
   "source": [
    "- Có bao nhiêu đơn hàng?"
   ]
  },
  {
   "cell_type": "code",
   "execution_count": 158,
   "id": "e6d24cf1-b6fe-46b2-b900-553d6ab26332",
   "metadata": {},
   "outputs": [
    {
     "data": {
      "text/plain": [
       "1315"
      ]
     },
     "execution_count": 158,
     "metadata": {},
     "output_type": "execute_result"
    }
   ],
   "source": [
    "df4['order_id'].nunique()"
   ]
  },
  {
   "cell_type": "markdown",
   "id": "c2017f11-aa45-4078-ba15-150ebbf930cb",
   "metadata": {},
   "source": [
    "- Số đơn hàng mỗi tháng?"
   ]
  },
  {
   "cell_type": "code",
   "execution_count": 171,
   "id": "9989e875-870a-4c94-9e66-400e6ad5183c",
   "metadata": {},
   "outputs": [
    {
     "data": {
      "text/html": [
       "<div>\n",
       "<style scoped>\n",
       "    .dataframe tbody tr th:only-of-type {\n",
       "        vertical-align: middle;\n",
       "    }\n",
       "\n",
       "    .dataframe tbody tr th {\n",
       "        vertical-align: top;\n",
       "    }\n",
       "\n",
       "    .dataframe thead th {\n",
       "        text-align: right;\n",
       "    }\n",
       "</style>\n",
       "<table border=\"1\" class=\"dataframe\">\n",
       "  <thead>\n",
       "    <tr style=\"text-align: right;\">\n",
       "      <th></th>\n",
       "      <th>month</th>\n",
       "      <th>order</th>\n",
       "    </tr>\n",
       "  </thead>\n",
       "  <tbody>\n",
       "    <tr>\n",
       "      <th>0</th>\n",
       "      <td>1</td>\n",
       "      <td>48</td>\n",
       "    </tr>\n",
       "    <tr>\n",
       "      <th>1</th>\n",
       "      <td>2</td>\n",
       "      <td>45</td>\n",
       "    </tr>\n",
       "    <tr>\n",
       "      <th>2</th>\n",
       "      <td>3</td>\n",
       "      <td>86</td>\n",
       "    </tr>\n",
       "    <tr>\n",
       "      <th>3</th>\n",
       "      <td>4</td>\n",
       "      <td>89</td>\n",
       "    </tr>\n",
       "    <tr>\n",
       "      <th>4</th>\n",
       "      <td>5</td>\n",
       "      <td>108</td>\n",
       "    </tr>\n",
       "    <tr>\n",
       "      <th>5</th>\n",
       "      <td>6</td>\n",
       "      <td>97</td>\n",
       "    </tr>\n",
       "    <tr>\n",
       "      <th>6</th>\n",
       "      <td>7</td>\n",
       "      <td>96</td>\n",
       "    </tr>\n",
       "    <tr>\n",
       "      <th>7</th>\n",
       "      <td>8</td>\n",
       "      <td>90</td>\n",
       "    </tr>\n",
       "    <tr>\n",
       "      <th>8</th>\n",
       "      <td>9</td>\n",
       "      <td>192</td>\n",
       "    </tr>\n",
       "    <tr>\n",
       "      <th>9</th>\n",
       "      <td>10</td>\n",
       "      <td>105</td>\n",
       "    </tr>\n",
       "    <tr>\n",
       "      <th>10</th>\n",
       "      <td>11</td>\n",
       "      <td>183</td>\n",
       "    </tr>\n",
       "    <tr>\n",
       "      <th>11</th>\n",
       "      <td>12</td>\n",
       "      <td>176</td>\n",
       "    </tr>\n",
       "  </tbody>\n",
       "</table>\n",
       "</div>"
      ],
      "text/plain": [
       "    month   order\n",
       "0       1      48\n",
       "1       2      45\n",
       "2       3      86\n",
       "3       4      89\n",
       "4       5     108\n",
       "5       6      97\n",
       "6       7      96\n",
       "7       8      90\n",
       "8       9     192\n",
       "9      10     105\n",
       "10     11     183\n",
       "11     12     176"
      ]
     },
     "execution_count": 171,
     "metadata": {},
     "output_type": "execute_result"
    }
   ],
   "source": [
    "df4_month = df4['order_month'].unique().tolist()\n",
    "s_df4_month = sorted(df4_month)\n",
    "df4_dict = {}\n",
    "for i in s_df4_month:\n",
    "    df4_dict[i] = (df4.loc[(df[\"order_month\"]) == i, :])['order_id'].nunique()\n",
    "df4_dtf = pd.DataFrame(list(df4_dict.items()), columns = ['month', ' order'])\n",
    "df4_dtf"
   ]
  },
  {
   "cell_type": "markdown",
   "id": "7f20ba32-b624-442b-b1ab-9a474848e513",
   "metadata": {},
   "source": [
    "- Lấy ra top 10 sản phẩm có doanh số cao nhất 2017"
   ]
  },
  {
   "cell_type": "code",
   "execution_count": 235,
   "id": "4f79bb17-4e8d-469e-8f60-577e3c2edf35",
   "metadata": {},
   "outputs": [],
   "source": [
    "df4_sorted = df4.sort_values('sales', ascending = False).reset_index()"
   ]
  },
  {
   "cell_type": "code",
   "execution_count": 238,
   "id": "d351a87d-c0c3-4b5c-a403-4e0d2a174f0f",
   "metadata": {},
   "outputs": [
    {
     "data": {
      "text/html": [
       "<div>\n",
       "<style scoped>\n",
       "    .dataframe tbody tr th:only-of-type {\n",
       "        vertical-align: middle;\n",
       "    }\n",
       "\n",
       "    .dataframe tbody tr th {\n",
       "        vertical-align: top;\n",
       "    }\n",
       "\n",
       "    .dataframe thead th {\n",
       "        text-align: right;\n",
       "    }\n",
       "</style>\n",
       "<table border=\"1\" class=\"dataframe\">\n",
       "  <thead>\n",
       "    <tr style=\"text-align: right;\">\n",
       "      <th></th>\n",
       "      <th>product_name</th>\n",
       "      <th>sales</th>\n",
       "    </tr>\n",
       "  </thead>\n",
       "  <tbody>\n",
       "    <tr>\n",
       "      <th>0</th>\n",
       "      <td>Canon imageCLASS 2200 Advanced Copier</td>\n",
       "      <td>17500.0</td>\n",
       "    </tr>\n",
       "    <tr>\n",
       "      <th>1</th>\n",
       "      <td>GBC Ibimaster 500 Manual ProClick Binding System</td>\n",
       "      <td>9893.0</td>\n",
       "    </tr>\n",
       "    <tr>\n",
       "      <th>2</th>\n",
       "      <td>3D Systems Cube Printer, 2nd Generation, Magenta</td>\n",
       "      <td>9100.0</td>\n",
       "    </tr>\n",
       "    <tr>\n",
       "      <th>3</th>\n",
       "      <td>HP Designjet T520 Inkjet Large Format Printer ...</td>\n",
       "      <td>8750.0</td>\n",
       "    </tr>\n",
       "    <tr>\n",
       "      <th>5</th>\n",
       "      <td>Hewlett Packard LaserJet 3310 Copier</td>\n",
       "      <td>5400.0</td>\n",
       "    </tr>\n",
       "    <tr>\n",
       "      <th>6</th>\n",
       "      <td>High Speed Automatic Electric Letter Opener</td>\n",
       "      <td>4913.0</td>\n",
       "    </tr>\n",
       "    <tr>\n",
       "      <th>7</th>\n",
       "      <td>Ativa V4110MDD Micro-Cut Shredder</td>\n",
       "      <td>4900.0</td>\n",
       "    </tr>\n",
       "    <tr>\n",
       "      <th>8</th>\n",
       "      <td>Ibico EPK-21 Electric Binding System</td>\n",
       "      <td>4536.0</td>\n",
       "    </tr>\n",
       "    <tr>\n",
       "      <th>9</th>\n",
       "      <td>Cubify CubeX 3D Printer Double Head Print</td>\n",
       "      <td>4500.0</td>\n",
       "    </tr>\n",
       "    <tr>\n",
       "      <th>10</th>\n",
       "      <td>Okidata MB760 Printer</td>\n",
       "      <td>4477.0</td>\n",
       "    </tr>\n",
       "  </tbody>\n",
       "</table>\n",
       "</div>"
      ],
      "text/plain": [
       "                                         product_name    sales\n",
       "0               Canon imageCLASS 2200 Advanced Copier  17500.0\n",
       "1    GBC Ibimaster 500 Manual ProClick Binding System   9893.0\n",
       "2    3D Systems Cube Printer, 2nd Generation, Magenta   9100.0\n",
       "3   HP Designjet T520 Inkjet Large Format Printer ...   8750.0\n",
       "5                Hewlett Packard LaserJet 3310 Copier   5400.0\n",
       "6         High Speed Automatic Electric Letter Opener   4913.0\n",
       "7                   Ativa V4110MDD Micro-Cut Shredder   4900.0\n",
       "8                Ibico EPK-21 Electric Binding System   4536.0\n",
       "9           Cubify CubeX 3D Printer Double Head Print   4500.0\n",
       "10                              Okidata MB760 Printer   4477.0"
      ]
     },
     "execution_count": 238,
     "metadata": {},
     "output_type": "execute_result"
    }
   ],
   "source": [
    "df4_sorted.drop_duplicates(subset='product_name')[['product_name', 'sales']].head(10)"
   ]
  },
  {
   "cell_type": "code",
   "execution_count": null,
   "id": "770826d7-8787-4be6-9027-2b571e3f05f6",
   "metadata": {},
   "outputs": [],
   "source": []
  },
  {
   "cell_type": "markdown",
   "id": "e02d2177-a72b-4d00-9df8-1974ac761ec9",
   "metadata": {},
   "source": [
    "- Lọc ra top 5 sub-categories có Sales nhiều nhất trong năm 2017"
   ]
  },
  {
   "cell_type": "code",
   "execution_count": 233,
   "id": "c1ce2588-d0c8-428f-85e4-745b59a8306e",
   "metadata": {},
   "outputs": [],
   "source": [
    "df4_sub_cate = df4_sorted.drop_duplicates(subset='sub-category').reset_index()"
   ]
  },
  {
   "cell_type": "code",
   "execution_count": 234,
   "id": "f0db010d-34f0-4b7c-81ed-6403c252f2d4",
   "metadata": {},
   "outputs": [
    {
     "data": {
      "text/html": [
       "<div>\n",
       "<style scoped>\n",
       "    .dataframe tbody tr th:only-of-type {\n",
       "        vertical-align: middle;\n",
       "    }\n",
       "\n",
       "    .dataframe tbody tr th {\n",
       "        vertical-align: top;\n",
       "    }\n",
       "\n",
       "    .dataframe thead th {\n",
       "        text-align: right;\n",
       "    }\n",
       "</style>\n",
       "<table border=\"1\" class=\"dataframe\">\n",
       "  <thead>\n",
       "    <tr style=\"text-align: right;\">\n",
       "      <th></th>\n",
       "      <th>sub-category</th>\n",
       "      <th>sales</th>\n",
       "    </tr>\n",
       "  </thead>\n",
       "  <tbody>\n",
       "    <tr>\n",
       "      <th>0</th>\n",
       "      <td>Copiers</td>\n",
       "      <td>17500.0</td>\n",
       "    </tr>\n",
       "    <tr>\n",
       "      <th>1</th>\n",
       "      <td>Binders</td>\n",
       "      <td>9893.0</td>\n",
       "    </tr>\n",
       "    <tr>\n",
       "      <th>2</th>\n",
       "      <td>Machines</td>\n",
       "      <td>9100.0</td>\n",
       "    </tr>\n",
       "    <tr>\n",
       "      <th>3</th>\n",
       "      <td>Supplies</td>\n",
       "      <td>4913.0</td>\n",
       "    </tr>\n",
       "    <tr>\n",
       "      <th>4</th>\n",
       "      <td>Phones</td>\n",
       "      <td>4159.0</td>\n",
       "    </tr>\n",
       "  </tbody>\n",
       "</table>\n",
       "</div>"
      ],
      "text/plain": [
       "  sub-category    sales\n",
       "0      Copiers  17500.0\n",
       "1      Binders   9893.0\n",
       "2     Machines   9100.0\n",
       "3     Supplies   4913.0\n",
       "4       Phones   4159.0"
      ]
     },
     "execution_count": 234,
     "metadata": {},
     "output_type": "execute_result"
    }
   ],
   "source": [
    "df4_sub_cate[['sub-category', 'sales']].head(5)"
   ]
  },
  {
   "cell_type": "code",
   "execution_count": null,
   "id": "07a6b5ae-7c6b-47b7-b8a6-04a44e5a7139",
   "metadata": {},
   "outputs": [],
   "source": []
  },
  {
   "cell_type": "code",
   "execution_count": null,
   "id": "cd24d214-8ad6-4599-8a13-49e64ac72637",
   "metadata": {},
   "outputs": [],
   "source": []
  },
  {
   "cell_type": "code",
   "execution_count": null,
   "id": "de99d46d-f423-4261-9156-fb95a3961ce5",
   "metadata": {},
   "outputs": [],
   "source": []
  },
  {
   "cell_type": "markdown",
   "id": "9c61ce28-9d01-433c-aa59-293f61adea16",
   "metadata": {},
   "source": [
    "- Lọc ra các đơn hàng bị chuyển chậm hơn 3 ngày"
   ]
  },
  {
   "cell_type": "code",
   "execution_count": 212,
   "id": "9cd2328f-4789-49a7-86ca-7b072904e59c",
   "metadata": {},
   "outputs": [],
   "source": [
    "df['ship_day'] = df['ship_date'].dt.day\n",
    "df['delay_day'] = df['ship_day'] - df['order_day']"
   ]
  },
  {
   "cell_type": "code",
   "execution_count": 330,
   "id": "4487ded5-352c-4cbb-9249-23b8433da1cc",
   "metadata": {},
   "outputs": [
    {
     "data": {
      "text/html": [
       "<div>\n",
       "<style scoped>\n",
       "    .dataframe tbody tr th:only-of-type {\n",
       "        vertical-align: middle;\n",
       "    }\n",
       "\n",
       "    .dataframe tbody tr th {\n",
       "        vertical-align: top;\n",
       "    }\n",
       "\n",
       "    .dataframe thead th {\n",
       "        text-align: right;\n",
       "    }\n",
       "</style>\n",
       "<table border=\"1\" class=\"dataframe\">\n",
       "  <thead>\n",
       "    <tr style=\"text-align: right;\">\n",
       "      <th></th>\n",
       "      <th>order_date</th>\n",
       "      <th>order_id</th>\n",
       "      <th>ship_date</th>\n",
       "      <th>delay_day</th>\n",
       "    </tr>\n",
       "  </thead>\n",
       "  <tbody>\n",
       "    <tr>\n",
       "      <th>0</th>\n",
       "      <td>2017-06-12</td>\n",
       "      <td>CA-2017-138688</td>\n",
       "      <td>2017-06-16</td>\n",
       "      <td>4</td>\n",
       "    </tr>\n",
       "    <tr>\n",
       "      <th>1</th>\n",
       "      <td>2016-10-11</td>\n",
       "      <td>US-2016-108966</td>\n",
       "      <td>2016-10-18</td>\n",
       "      <td>7</td>\n",
       "    </tr>\n",
       "    <tr>\n",
       "      <th>2</th>\n",
       "      <td>2016-10-11</td>\n",
       "      <td>US-2016-108966</td>\n",
       "      <td>2016-10-18</td>\n",
       "      <td>7</td>\n",
       "    </tr>\n",
       "    <tr>\n",
       "      <th>3</th>\n",
       "      <td>2015-06-09</td>\n",
       "      <td>CA-2015-115812</td>\n",
       "      <td>2015-06-14</td>\n",
       "      <td>5</td>\n",
       "    </tr>\n",
       "    <tr>\n",
       "      <th>4</th>\n",
       "      <td>2015-06-09</td>\n",
       "      <td>CA-2015-115812</td>\n",
       "      <td>2015-06-14</td>\n",
       "      <td>5</td>\n",
       "    </tr>\n",
       "    <tr>\n",
       "      <th>5</th>\n",
       "      <td>2015-06-09</td>\n",
       "      <td>CA-2015-115812</td>\n",
       "      <td>2015-06-14</td>\n",
       "      <td>5</td>\n",
       "    </tr>\n",
       "    <tr>\n",
       "      <th>6</th>\n",
       "      <td>2015-06-09</td>\n",
       "      <td>CA-2015-115812</td>\n",
       "      <td>2015-06-14</td>\n",
       "      <td>5</td>\n",
       "    </tr>\n",
       "    <tr>\n",
       "      <th>7</th>\n",
       "      <td>2015-06-09</td>\n",
       "      <td>CA-2015-115812</td>\n",
       "      <td>2015-06-14</td>\n",
       "      <td>5</td>\n",
       "    </tr>\n",
       "    <tr>\n",
       "      <th>8</th>\n",
       "      <td>2015-06-09</td>\n",
       "      <td>CA-2015-115812</td>\n",
       "      <td>2015-06-14</td>\n",
       "      <td>5</td>\n",
       "    </tr>\n",
       "    <tr>\n",
       "      <th>9</th>\n",
       "      <td>2015-06-09</td>\n",
       "      <td>CA-2015-115812</td>\n",
       "      <td>2015-06-14</td>\n",
       "      <td>5</td>\n",
       "    </tr>\n",
       "  </tbody>\n",
       "</table>\n",
       "</div>"
      ],
      "text/plain": [
       "  order_date        order_id  ship_date  delay_day\n",
       "0 2017-06-12  CA-2017-138688 2017-06-16          4\n",
       "1 2016-10-11  US-2016-108966 2016-10-18          7\n",
       "2 2016-10-11  US-2016-108966 2016-10-18          7\n",
       "3 2015-06-09  CA-2015-115812 2015-06-14          5\n",
       "4 2015-06-09  CA-2015-115812 2015-06-14          5\n",
       "5 2015-06-09  CA-2015-115812 2015-06-14          5\n",
       "6 2015-06-09  CA-2015-115812 2015-06-14          5\n",
       "7 2015-06-09  CA-2015-115812 2015-06-14          5\n",
       "8 2015-06-09  CA-2015-115812 2015-06-14          5\n",
       "9 2015-06-09  CA-2015-115812 2015-06-14          5"
      ]
     },
     "execution_count": 330,
     "metadata": {},
     "output_type": "execute_result"
    }
   ],
   "source": [
    "df5 = df.loc[(df['delay_day'] > 3),:].reset_index()\n",
    "df5[['order_date', 'order_id', 'ship_date','delay_day']].head(10)"
   ]
  },
  {
   "cell_type": "markdown",
   "id": "1b2fd9ac-c936-435d-a7e9-0cb0901fd260",
   "metadata": {},
   "source": [
    "- Có bao nhiêu đơn như vậy"
   ]
  },
  {
   "cell_type": "code",
   "execution_count": 328,
   "id": "8480e112-e865-4ec3-9323-781d1ad8e9d0",
   "metadata": {},
   "outputs": [
    {
     "name": "stdout",
     "output_type": "stream",
     "text": [
      "Có 2871 đơn hàng như vậy.\n"
     ]
    }
   ],
   "source": [
    "print(\"Có {} đơn hàng như vậy.\".format(df5['order_id'].nunique()))"
   ]
  },
  {
   "cell_type": "markdown",
   "id": "13286014-d7b5-49e9-a9b9-3f6305b3c324",
   "metadata": {},
   "source": [
    "- Đơn hàng trễ nhất là bao lâu?"
   ]
  },
  {
   "cell_type": "code",
   "execution_count": 325,
   "id": "c317e57b-32f4-4be7-9286-a9f36ff4be14",
   "metadata": {},
   "outputs": [
    {
     "name": "stdout",
     "output_type": "stream",
     "text": [
      "Đơn hàng trễ nhất mất 7 ngày.\n"
     ]
    }
   ],
   "source": [
    "print(\"Đơn hàng trễ nhất mất {} ngày.\".format(max(df5['delay_day'].unique().tolist())))"
   ]
  },
  {
   "cell_type": "markdown",
   "id": "3890c83a-02c0-497c-98b7-562677e366cf",
   "metadata": {},
   "source": [
    "### 4.4. Tăng trưởng Lợi nhuận"
   ]
  },
  {
   "cell_type": "markdown",
   "id": "0303abdf-8d05-4e3c-bf3a-d7536f021a7a",
   "metadata": {
    "tags": []
   },
   "source": [
    "- Tăng trưởng lợi nhuận giữa các nhóm Khách hàng (Segment) của năm gần nhất so với năm trước đó là bao nhiêu?"
   ]
  },
  {
   "cell_type": "code",
   "execution_count": null,
   "id": "3b8a109e-27c4-4dbf-996a-1594f7bc3ee3",
   "metadata": {},
   "outputs": [],
   "source": []
  },
  {
   "cell_type": "code",
   "execution_count": null,
   "id": "a1f43831-4a9b-4396-80ad-ce4a46111a94",
   "metadata": {},
   "outputs": [],
   "source": []
  },
  {
   "cell_type": "markdown",
   "id": "198263da-2ebe-4dfb-8c38-8ac81ba0eb2a",
   "metadata": {},
   "source": [
    "### 4.5. Trình bày bảng Tăng trưởng Lợi nhuận"
   ]
  },
  {
   "cell_type": "markdown",
   "id": "a208924a-b3c5-4dff-adf3-fc4b1138e884",
   "metadata": {},
   "source": [
    "- Trình bày bảng với các nhóm Khách hàng (Segment) giờ đây sẽ trở thành từng cột riêng lẻ"
   ]
  },
  {
   "cell_type": "markdown",
   "id": "3bf673ae-9e60-4f1a-9214-36195839a7ea",
   "metadata": {},
   "source": [
    "Expectation: 3 cột Consumer, Corporate, Home Office"
   ]
  },
  {
   "cell_type": "code",
   "execution_count": null,
   "id": "5a5a5519-f77d-4c21-84ed-3be2c5270337",
   "metadata": {},
   "outputs": [],
   "source": []
  }
 ],
 "metadata": {
  "kernelspec": {
   "display_name": "Python 3 (ipykernel)",
   "language": "python",
   "name": "python3"
  },
  "language_info": {
   "codemirror_mode": {
    "name": "ipython",
    "version": 3
   },
   "file_extension": ".py",
   "mimetype": "text/x-python",
   "name": "python",
   "nbconvert_exporter": "python",
   "pygments_lexer": "ipython3",
   "version": "3.10.9"
  }
 },
 "nbformat": 4,
 "nbformat_minor": 5
}
