{
 "cells": [
  {
   "cell_type": "markdown",
   "metadata": {},
   "source": [
    "# Pandas (part 3)"
   ]
  },
  {
   "cell_type": "code",
   "execution_count": null,
   "metadata": {},
   "outputs": [],
   "source": [
    "import pandas as pd\n",
    "import numpy as np\n",
    "import seaborn as sns\n",
    "\n",
    "import matplotlib.pyplot as plt\n",
    "plt.style.use(\"seaborn-whitegrid\")"
   ]
  },
  {
   "cell_type": "markdown",
   "metadata": {},
   "source": [
    "## 5. Reshape data"
   ]
  },
  {
   "cell_type": "markdown",
   "metadata": {},
   "source": [
    "### 5.1. Long vs. Wide data"
   ]
  },
  {
   "cell_type": "code",
   "execution_count": null,
   "metadata": {},
   "outputs": [],
   "source": [
    "# Load data\n",
    "data_path = 'D:\\\\codegym\\\\data\\\\'\n",
    "long_data_name = 'long_data.csv'\n",
    "wide_data_name = 'wide_data.csv'\n",
    "\n",
    "long_df = pd.read_csv(data_path + long_data_name)\n",
    "wide_df = pd.read_csv(data_path + wide_data_name)"
   ]
  },
  {
   "cell_type": "code",
   "execution_count": null,
   "metadata": {},
   "outputs": [],
   "source": [
    "# View long data\n",
    "long_df.head(5)"
   ]
  },
  {
   "cell_type": "code",
   "execution_count": null,
   "metadata": {},
   "outputs": [],
   "source": [
    "# View wide data\n",
    "wide_df.head(5)"
   ]
  },
  {
   "cell_type": "markdown",
   "metadata": {},
   "source": [
    "### 5.2. Đổi từ long -> wide"
   ]
  },
  {
   "cell_type": "code",
   "execution_count": null,
   "metadata": {},
   "outputs": [],
   "source": [
    "# Preview\n",
    "long_df.head(3)"
   ]
  },
  {
   "cell_type": "code",
   "execution_count": null,
   "metadata": {},
   "outputs": [],
   "source": [
    "# Unique value của cột datatype\n",
    "long_df[\"datatype\"].unique().tolist()"
   ]
  },
  {
   "cell_type": "code",
   "execution_count": null,
   "metadata": {},
   "outputs": [],
   "source": [
    "# Pivot cột datatype thành 3 cột ứng với unique value\n",
    "# Mỗi dòng là 1 ngày, mỗi cell có giá trị lấy từ cột value\n",
    "long_df.pivot(index=\"date\", columns=\"datatype\", values=\"value\").head(3)"
   ]
  },
  {
   "cell_type": "markdown",
   "metadata": {},
   "source": [
    "### 5.3. Đổi từ wide sang long"
   ]
  },
  {
   "cell_type": "code",
   "execution_count": null,
   "metadata": {},
   "outputs": [],
   "source": [
    "# Preview\n",
    "wide_df.head(3)"
   ]
  },
  {
   "cell_type": "code",
   "execution_count": null,
   "metadata": {},
   "outputs": [],
   "source": [
    "# Gom 3 cột TMAX, TMIN, TOBS thành 1 cột tên `temp_type`\n",
    "# Các giá trị mỗi cell gom thành 1 cột khác tên `temp_value`\n",
    "# Mỗi ngày bây giờ có 3 hàng ứng với 3 loại TMAX, TMIN, TOBS\n",
    "wide_df.melt(\n",
    "        id_vars=[\"date\"],\n",
    "        value_vars=[\"TMAX\", \"TMIN\", \"TOBS\"],\n",
    "        var_name=\"temp_type\",\n",
    "        value_name=\"temp_value\"\n",
    "    )\\\n",
    "    .head(3)"
   ]
  },
  {
   "cell_type": "markdown",
   "metadata": {},
   "source": [
    "### 5.4. Plotting using long vs. wide data"
   ]
  },
  {
   "cell_type": "markdown",
   "metadata": {},
   "source": [
    "#### A) Wide"
   ]
  },
  {
   "cell_type": "code",
   "execution_count": null,
   "metadata": {},
   "outputs": [],
   "source": [
    "# Preview\n",
    "wide_df.head(3)"
   ]
  },
  {
   "cell_type": "code",
   "execution_count": null,
   "metadata": {},
   "outputs": [],
   "source": [
    "# Plot\n",
    "fig, ax = plt.subplots(figsize=(12, 4))\n",
    "\n",
    "wide_df.plot.line(\n",
    "    x=\"date\", \n",
    "    y=[\"TMAX\", \"TMIN\", \"TOBS\"],\n",
    "    ax=ax\n",
    ")\n",
    "\n",
    "ax.set_title(\"Temperature in NYC in October 2018\")\n",
    "ax.set_xlabel(None)\n",
    "ax.set_ylabel('Temperature in Celsius')\n",
    "\n",
    "plt.show()"
   ]
  },
  {
   "cell_type": "markdown",
   "metadata": {},
   "source": [
    "#### B) Long"
   ]
  },
  {
   "cell_type": "code",
   "execution_count": null,
   "metadata": {},
   "outputs": [],
   "source": [
    "# Convert date to date time\n",
    "long_df[\"date\"] = pd.to_datetime(long_df[\"date\"])\n",
    "long_df.head(3)"
   ]
  },
  {
   "cell_type": "code",
   "execution_count": null,
   "metadata": {},
   "outputs": [],
   "source": [
    "# Plot\n",
    "fig, ax = plt.subplots(figsize=(12, 4))\n",
    "\n",
    "sns.lineplot(\n",
    "    x=\"date\", \n",
    "    y=\"value\",\n",
    "    hue=\"datatype\",\n",
    "    data=long_df,\n",
    "    ax=ax\n",
    ")\n",
    "\n",
    "ax.set_title(\"Temperature in NYC in October 2018\")\n",
    "ax.set_xlabel(None)\n",
    "ax.set_ylabel('Temperature in Celsius')\n",
    "\n",
    "plt.show()"
   ]
  },
  {
   "cell_type": "markdown",
   "metadata": {},
   "source": [
    "## 6. Concatenate DFs"
   ]
  },
  {
   "cell_type": "markdown",
   "metadata": {},
   "source": [
    "### 6.1. Vertically"
   ]
  },
  {
   "cell_type": "markdown",
   "metadata": {},
   "source": [
    "#### Tạo data"
   ]
  },
  {
   "cell_type": "code",
   "execution_count": null,
   "metadata": {},
   "outputs": [],
   "source": [
    "df1 = pd.DataFrame({\n",
    "    \"name\": [\"Mr. A\", \"Mr. B\", \"Ms. C\"],\n",
    "    \"age\": [30, 25, 32],\n",
    "    \"salary\": [1200, 2000, 1700],\n",
    "    \"source\": \"data file 1\"\n",
    "})\n",
    "\n",
    "df1"
   ]
  },
  {
   "cell_type": "code",
   "execution_count": null,
   "metadata": {},
   "outputs": [],
   "source": [
    "df2 = pd.DataFrame({\n",
    "    \"name\": [\"Ms. X\", \"Mr. Y\"],\n",
    "    \"age\": [35, 42],\n",
    "    \"salary\": [2300, 1200],\n",
    "    \"source\": \"data file 2\"\n",
    "})\n",
    "\n",
    "df2"
   ]
  },
  {
   "cell_type": "markdown",
   "metadata": {},
   "source": [
    "#### Concatenate"
   ]
  },
  {
   "cell_type": "code",
   "execution_count": null,
   "metadata": {},
   "outputs": [],
   "source": [
    "pd.concat([df1, df2], ignore_index=True)"
   ]
  },
  {
   "cell_type": "markdown",
   "metadata": {},
   "source": [
    "### 6.2. Horizontally\n",
    "(Ít gặp)"
   ]
  },
  {
   "cell_type": "markdown",
   "metadata": {},
   "source": [
    "#### Tạo data"
   ]
  },
  {
   "cell_type": "code",
   "execution_count": null,
   "metadata": {},
   "outputs": [],
   "source": [
    "df1 = pd.DataFrame({\n",
    "    \"name\": [\"Mr. A\", \"Mr. B\", \"Ms. C\"],\n",
    "    \"age\": [30, 25, 32],\n",
    "    \"salary\": [1200, 2000, 1700]\n",
    "})\n",
    "\n",
    "df1"
   ]
  },
  {
   "cell_type": "code",
   "execution_count": null,
   "metadata": {},
   "outputs": [],
   "source": [
    "df2 = pd.DataFrame({\n",
    "    \"city\": [\"HN\", \"HCM\"],\n",
    "    \"district\": [\"Hoan Kiem\", \"Q1\"]\n",
    "})\n",
    "\n",
    "df2"
   ]
  },
  {
   "cell_type": "code",
   "execution_count": null,
   "metadata": {},
   "outputs": [],
   "source": [
    "pd.concat([df1, df2], axis=1)"
   ]
  },
  {
   "cell_type": "markdown",
   "metadata": {},
   "source": [
    "## 7. Join / Merge DFs by columns"
   ]
  },
  {
   "cell_type": "markdown",
   "metadata": {},
   "source": [
    "### 7.1. Minh họa\n",
    "![](https://d33wubrfki0l68.cloudfront.net/108c0749d084c03103f8e1e8276c20e06357b124/5f113/diagrams/join-setup.png)\n",
    "\n",
    "![](https://d33wubrfki0l68.cloudfront.net/820b012580731f2134f90ee9c6388994c2343683/27703/diagrams/join-setup2.png)\n",
    "\n",
    "#### A) Inner\n",
    "![](https://d33wubrfki0l68.cloudfront.net/3abea0b730526c3f053a3838953c35a0ccbe8980/7f29b/diagrams/join-inner.png)\n",
    "\n",
    "#### B) Outer (left / right / full)\n",
    "![](https://d33wubrfki0l68.cloudfront.net/9c12ca9e12ed26a7c5d2aa08e36d2ac4fb593f1e/79980/diagrams/join-outer.png)\n",
    "\n",
    "#### C) Ven diagrams\n",
    "![](https://d33wubrfki0l68.cloudfront.net/aeab386461820b029b7e7606ccff1286f623bae1/ef0d4/diagrams/join-venn.png)"
   ]
  },
  {
   "cell_type": "markdown",
   "metadata": {},
   "source": [
    "### 7.2. Merge data with pandas"
   ]
  },
  {
   "cell_type": "code",
   "execution_count": null,
   "metadata": {},
   "outputs": [],
   "source": [
    "df1 = pd.DataFrame({\n",
    "    \"id\": [1, 2, 3],\n",
    "    \"name\": [\"John\", \"Mary\", \"Louis\"]\n",
    "})\n",
    "\n",
    "df2 = pd.DataFrame({\n",
    "    \"id\": [1, 2, 4],\n",
    "    \"country\": [\"US\", \"CA\", \"FR\"]\n",
    "})\n",
    "\n",
    "display(df1)\n",
    "display(df2)"
   ]
  },
  {
   "cell_type": "code",
   "execution_count": null,
   "metadata": {},
   "outputs": [],
   "source": [
    "# Inner join\n",
    "pd.merge(left = df1, right = df2, how=\"inner\", on=[\"id\"])"
   ]
  },
  {
   "cell_type": "code",
   "execution_count": null,
   "metadata": {},
   "outputs": [],
   "source": [
    "# Left (outer) join\n",
    "pd.merge(df1, df2, how=\"left\", on=[\"id\"])"
   ]
  },
  {
   "cell_type": "code",
   "execution_count": null,
   "metadata": {},
   "outputs": [],
   "source": [
    "# Right (outer) join\n",
    "pd.merge(df1, df2, how=\"right\", on=[\"id\"])"
   ]
  },
  {
   "cell_type": "code",
   "execution_count": null,
   "metadata": {},
   "outputs": [],
   "source": [
    "# Full (outer) join\n",
    "pd.merge(df1, df2, how=\"outer\", on=[\"id\"])"
   ]
  },
  {
   "cell_type": "markdown",
   "metadata": {},
   "source": [
    "## 8. Dirty data"
   ]
  },
  {
   "cell_type": "markdown",
   "metadata": {
    "tags": []
   },
   "source": [
    "### 8.1. Load data"
   ]
  },
  {
   "cell_type": "code",
   "execution_count": null,
   "metadata": {},
   "outputs": [],
   "source": [
    "dirty_data_name = 'dirty_data.csv'\n",
    "\n",
    "df = pd.read_csv(data_path + dirty_data_name)\n",
    "df.head(3)"
   ]
  },
  {
   "cell_type": "markdown",
   "metadata": {},
   "source": [
    "### 8.2. Find and replace"
   ]
  },
  {
   "cell_type": "code",
   "execution_count": null,
   "metadata": {},
   "outputs": [],
   "source": [
    "# Replace \"?\" hoặc \"\" bằng NaN\n",
    "df.replace(to_replace=[\"?\", \"\"], value=np.nan, inplace=True)\n",
    "df.head(3)"
   ]
  },
  {
   "cell_type": "code",
   "execution_count": null,
   "metadata": {},
   "outputs": [],
   "source": [
    "# Replace inf với 0\n",
    "df.replace(to_replace=[-np.infty, np.infty], value=0, inplace=True)\n",
    "df.head(3)"
   ]
  },
  {
   "cell_type": "code",
   "execution_count": null,
   "metadata": {},
   "outputs": [],
   "source": [
    "# Replace NaN của \n",
    "df.replace(to_replace=[-np.infty, np.infty], value=0, inplace=True)\n",
    "df.head(3)"
   ]
  },
  {
   "cell_type": "markdown",
   "metadata": {},
   "source": [
    "### 8.3. Fill NA"
   ]
  },
  {
   "cell_type": "code",
   "execution_count": null,
   "metadata": {},
   "outputs": [],
   "source": [
    "# Fill NaN của cột WESF bằng \"Unknown\", NaN của cột TOBS bằng 0\n",
    "df.fillna({\"WESF\": \"Unknown\", \"TOBS\": 0}, inplace=True)\n",
    "df.head(3)"
   ]
  },
  {
   "cell_type": "markdown",
   "metadata": {},
   "source": [
    "### 8.4. Drop NA"
   ]
  },
  {
   "cell_type": "code",
   "execution_count": null,
   "metadata": {},
   "outputs": [],
   "source": [
    "# Tạo data\n",
    "df = pd.DataFrame({\n",
    "    \"c1\": [1, 2, np.nan, np.nan],\n",
    "    \"c2\": [\"A\", \"B\", \"C\", np.nan],\n",
    "    \"c3\": [1.5, np.nan, 3, np.nan]\n",
    "})\n",
    "\n",
    "df"
   ]
  },
  {
   "cell_type": "code",
   "execution_count": null,
   "metadata": {},
   "outputs": [],
   "source": [
    "# Drop những dòng mà có ít nhất 1 cell có NaN\n",
    "# Muốn lưu thay đổi set inplace=True\n",
    "df.dropna()"
   ]
  },
  {
   "cell_type": "code",
   "execution_count": null,
   "metadata": {},
   "outputs": [],
   "source": [
    "# Drop những dòng mà tất cả các cell đều là NaN\n",
    "# Muốn lưu thay đổi set inplace=True\n",
    "df.dropna(how=\"all\")"
   ]
  },
  {
   "cell_type": "code",
   "execution_count": null,
   "metadata": {},
   "outputs": [],
   "source": [
    "# Drop những dòng ứng với cột c3 là NaN\n",
    "# Muốn lưu thay đổi set inplace=True\n",
    "df.dropna(subset=[\"c3\"])"
   ]
  },
  {
   "cell_type": "markdown",
   "metadata": {},
   "source": [
    "## 9. Dummy variables"
   ]
  },
  {
   "cell_type": "markdown",
   "metadata": {},
   "source": [
    "### 9.1. VD 1"
   ]
  },
  {
   "cell_type": "code",
   "execution_count": null,
   "metadata": {},
   "outputs": [],
   "source": [
    "# Tạo data\n",
    "df = pd.DataFrame({\n",
    "    'id': range(1, 5),\n",
    "    'sex': ['male', 'male', 'female', 'male'],\n",
    "    'age': [18, 19, 22, 15]\n",
    "\n",
    "})\n",
    "\n",
    "df"
   ]
  },
  {
   "cell_type": "code",
   "execution_count": null,
   "metadata": {},
   "outputs": [],
   "source": [
    "# Get dummies\n",
    "pd.get_dummies(df[\"sex\"])"
   ]
  },
  {
   "cell_type": "code",
   "execution_count": null,
   "metadata": {},
   "outputs": [],
   "source": [
    "# Get dummies with prefix\n",
    "pd.get_dummies(df[\"sex\"], prefix=\"is\")"
   ]
  },
  {
   "cell_type": "code",
   "execution_count": null,
   "metadata": {},
   "outputs": [],
   "source": [
    "# Get dummies drop first\n",
    "sex_dummies = pd.get_dummies(df[\"sex\"], prefix=\"is\", drop_first=True)\n",
    "sex_dummies"
   ]
  },
  {
   "cell_type": "code",
   "execution_count": null,
   "metadata": {},
   "outputs": [],
   "source": [
    "# Combine với orginal data dùng concat\n",
    "pd.concat([df, sex_dummies], axis=1)"
   ]
  },
  {
   "cell_type": "code",
   "execution_count": null,
   "metadata": {},
   "outputs": [],
   "source": [
    "# Combine với orginal data dùng join\n",
    "df.join(sex_dummies)"
   ]
  },
  {
   "cell_type": "code",
   "execution_count": null,
   "metadata": {},
   "outputs": [],
   "source": [
    "# Combine với orginal data, bỏ đi cột sex vì không cần thiết\n",
    "df.join(sex_dummies).drop(columns=[\"sex\"])"
   ]
  },
  {
   "cell_type": "markdown",
   "metadata": {},
   "source": [
    "### 9.2. VD 2"
   ]
  },
  {
   "cell_type": "code",
   "execution_count": null,
   "metadata": {},
   "outputs": [],
   "source": [
    "# Tạo data\n",
    "df = pd.DataFrame({\n",
    "    'id': range(1, 8),\n",
    "    'sex': ['male', 'male', 'female', 'male', 'male', 'female', 'male'],\n",
    "    'ranking': [\"Excellent\", \"Excellent\", \"Good\", \"Avg\", \"Avg\", \"Failed\", \"Failed\"]\n",
    "})\n",
    "\n",
    "df"
   ]
  },
  {
   "cell_type": "code",
   "execution_count": null,
   "metadata": {},
   "outputs": [],
   "source": [
    "# Tạo dummies\n",
    "ranking_dummies = pd.get_dummies(df[\"ranking\"], prefix=\"is\", drop_first=True)\n",
    "sex_dummies = pd.get_dummies(df[\"sex\"], prefix=\"is\", drop_first=True)"
   ]
  },
  {
   "cell_type": "code",
   "execution_count": null,
   "metadata": {},
   "outputs": [],
   "source": [
    "# View dummies\n",
    "display(ranking_dummies.head(2))\n",
    "display(sex_dummies.head(2))"
   ]
  },
  {
   "cell_type": "code",
   "execution_count": null,
   "metadata": {},
   "outputs": [],
   "source": [
    "# Join với data ban đầu\n",
    "df\\\n",
    "    .join(sex_dummies)\\\n",
    "    .join(ranking_dummies)\\\n",
    "    .drop(columns=[\"sex\", \"ranking\"])"
   ]
  }
 ],
 "metadata": {
  "kernelspec": {
   "display_name": "Python 3 (ipykernel)",
   "language": "python",
   "name": "python3"
  },
  "language_info": {
   "codemirror_mode": {
    "name": "ipython",
    "version": 3
   },
   "file_extension": ".py",
   "mimetype": "text/x-python",
   "name": "python",
   "nbconvert_exporter": "python",
   "pygments_lexer": "ipython3",
   "version": "3.10.9"
  }
 },
 "nbformat": 4,
 "nbformat_minor": 4
}
